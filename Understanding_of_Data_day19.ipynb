{
  "nbformat": 4,
  "nbformat_minor": 0,
  "metadata": {
    "colab": {
      "provenance": [],
      "authorship_tag": "ABX9TyPNwU0qjJJpiY8+qO+uPBu7",
      "include_colab_link": true
    },
    "kernelspec": {
      "name": "python3",
      "display_name": "Python 3"
    },
    "language_info": {
      "name": "python"
    }
  },
  "cells": [
    {
      "cell_type": "markdown",
      "metadata": {
        "id": "view-in-github",
        "colab_type": "text"
      },
      "source": [
        "<a href=\"https://colab.research.google.com/github/dhawan410/Auth_Service/blob/master/Understanding_of_Data_day19.ipynb\" target=\"_parent\"><img src=\"https://colab.research.google.com/assets/colab-badge.svg\" alt=\"Open In Colab\"/></a>"
      ]
    },
    {
      "cell_type": "code",
      "execution_count": null,
      "metadata": {
        "id": "mR9Owty7hs5V"
      },
      "outputs": [],
      "source": []
    },
    {
      "cell_type": "markdown",
      "source": [
        "**Understanding of Data**\n",
        "7 question to ask for understanding of data\n",
        "1- How big your data is?\n",
        "2- How your data looks like?\n",
        "3- what is your col data type?\n",
        "4-how many missing values in your in dataset cols?\n",
        "5- How does your data mathematically looks like?\n",
        "6- Are there any duplicate rows in your dataset?\n",
        "7 - How is your coorelation between your column?"
      ],
      "metadata": {
        "id": "3b3hHOQRhtad"
      }
    }
  ]
}